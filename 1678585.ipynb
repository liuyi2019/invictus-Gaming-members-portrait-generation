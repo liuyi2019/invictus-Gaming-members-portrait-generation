{
 "cells": [
  {
   "cell_type": "markdown",
   "metadata": {
    "collapsed": false
   },
   "source": [
    "# 基于PaddleHub的18IG队员人物素描\n",
    "该项目应用U2Net预训练模型，搭建一个可以end2end生成人体面部素描的应用程序。本文将详细介绍load预训练模型、图片裁剪、缝合的各种细节，并有U2Net模型的深度讲解。欢迎大家一键star、一键fork。\n",
    "\n",
    "关于数据准备，由于本人为iglol粉丝，将ig的春季赛定妆照应用到了该程序中，效果十分可观。\n",
    "\n",
    "这里是github项目，欢迎star fork！[github链接](https://github.com/Stuyxr/invictus-Gaming-members-portrait-generation) \n"
   ]
  },
  {
   "cell_type": "markdown",
   "metadata": {
    "collapsed": false
   },
   "source": [
    "# 一、效果展示\n",
    "这里是bilibili项目展示， \\\n",
    "[AI创造营 X IG](https://www.bilibili.com/video/BV1Zh411Q7Nr)\n",
    "<iframe style=\"width:98%;height: 450px;\" src=\"//player.bilibili.com/player.html?aid=544408715&bvid=BV1Zh411Q7Nr&cid=303813834&page=1\" scrolling=\"no\" border=\"0\" frameborder=\"no\" framespacing=\"0\" allowfullscreen=\"true\"> </iframe>\n",
    "\n",
    "IG啊IG，今年你还有机会吗\\\n",
    "效果图：\\\n",
    "第一排TheShy，Duke，Ning，Rookie，JackeyLove\\\n",
    "第三排中间三个Baolan~\\\n",
    "是我最喜欢的18極了\\\n",
    "source images:\\\n",
    "![](https://ai-studio-static-online.cdn.bcebos.com/a9c6f640a5ae4f89a4ffa19bb55754d213e659e6ec5c4fca94d284373e33868f)\n",
    "generated images:\\\n",
    "![](https://ai-studio-static-online.cdn.bcebos.com/719712e91eae44269498c55ef3786a93de1882155c284b72b6a9f57c056262c1)\n",
    "# 二、实现思路\n",
    "安装paddlehub -> 数据准备 -> 创建模型 -> 加载模型 -> 推断(inference)\n",
    "\n",
    "# 三、U2Net模型概述\n",
    "在这一部分将详细介绍U2Net网络。 \n",
    "\n",
    "U2Net最初用于显著目标检测(Salient Object Detection, SOD) ，目的是分割出图像中最具吸引力的目标。不同于图像识别，SOD更注重局部细节信息和全局对比信息，而不是深层语义信息，因此，主要的研究方向在于多层次与多尺度特征提取上。 \n",
    "\n",
    "而我们要做的portrait其实也是一种分割结果，无非就是一些特征分割出来，最终看起来像是人物肖像。按照这个思路其实U2net可以完全胜任这个问题。 \n",
    "因此U2Net_portrait模型就是U2Net模型用portrait dataset训练出来的结果。 \n",
    "\n",
    "那么U2Net是怎么做显著目标检测的？ \n",
    "\n",
    "对于SOD和其他分割任务来说，局部和全局上下文信息都非常重要。但是现有网络大部分是利用的一些经典image classification网络（如VGG，AlexNet等）提取深度特征，但这些缺少局部细节和全局对比的信息，而更多的是图像的语义信息，而SOD正是需要这种局部和全局间的关系等信息。\n",
    "\n",
    "因此，U2Net利用UNet的结构，并融合了FCN的一些特征融合技巧，采用了如下的Residual U-blocks。\n",
    "\n",
    "![](https://ai-studio-static-online.cdn.bcebos.com/513d1d14307f4d9a9b94929923c192da6afe846bf91847d69478c4d42e9fffcb)\n",
    "\n",
    "网络结构以及把一整个u2net完整的表示出来了，作者提出了一种名为RSU的新模块。对于每个RSU本身就是一个小号的Unet，最后所有的RSU用一种类似FPN的结构连接在一起。类似down-top top-down。通过这种方式来增加多尺度能力。获得了极为优秀的分割结果。\n",
    "\n",
    "下图右侧为每一个block的结构，和resnet block有一些类似。\n",
    "\n",
    "![](https://ai-studio-static-online.cdn.bcebos.com/b409e15600e84c358e8728fd38e9d04e4dc02ecc54a94934a0afbc6c6d3358b3)\n",
    "\n",
    "# 四、代码实现\n",
    "## 安装paddlehub\n",
    "安装paddlehub，这一步很简单，直接pip install即可。"
   ]
  },
  {
   "cell_type": "code",
   "execution_count": 1,
   "metadata": {
    "collapsed": false
   },
   "outputs": [
    {
     "name": "stdout",
     "output_type": "stream",
     "text": [
      "Looking in indexes: https://mirror.baidu.com/pypi/simple/\n",
      "Collecting paddlehub==2.0.0b2\n",
      "\u001b[?25l  Downloading https://mirror.baidu.com/pypi/packages/ca/1c/a0304ed4ce0ee694f4d9d2ee35dc335a0359ad43eb9ddb8f687fb032a91c/paddlehub-2.0.0b2-py3-none-any.whl (197kB)\n",
      "\u001b[K     |████████████████████████████████| 204kB 13.0MB/s eta 0:00:01\n",
      "\u001b[?25hRequirement already satisfied: colorlog in /opt/conda/envs/python35-paddle120-env/lib/python3.7/site-packages (from paddlehub==2.0.0b2) (4.1.0)\n",
      "Requirement already satisfied: numpy in /opt/conda/envs/python35-paddle120-env/lib/python3.7/site-packages (from paddlehub==2.0.0b2) (1.16.4)\n",
      "Requirement already satisfied: tqdm in /opt/conda/envs/python35-paddle120-env/lib/python3.7/site-packages (from paddlehub==2.0.0b2) (4.36.1)\n",
      "Requirement already satisfied: colorama in /opt/conda/envs/python35-paddle120-env/lib/python3.7/site-packages (from paddlehub==2.0.0b2) (0.4.4)\n",
      "Requirement already satisfied: packaging in /opt/conda/envs/python35-paddle120-env/lib/python3.7/site-packages (from paddlehub==2.0.0b2) (20.9)\n",
      "Requirement already satisfied: pyyaml in /opt/conda/envs/python35-paddle120-env/lib/python3.7/site-packages (from paddlehub==2.0.0b2) (5.1.2)\n",
      "Requirement already satisfied: visualdl>=2.0.0 in /opt/conda/envs/python35-paddle120-env/lib/python3.7/site-packages (from paddlehub==2.0.0b2) (2.1.1)\n",
      "Requirement already satisfied: opencv-python in /opt/conda/envs/python35-paddle120-env/lib/python3.7/site-packages (from paddlehub==2.0.0b2) (4.1.1.26)\n",
      "Requirement already satisfied: gitpython in /opt/conda/envs/python35-paddle120-env/lib/python3.7/site-packages (from paddlehub==2.0.0b2) (3.1.14)\n",
      "Requirement already satisfied: paddlenlp>=2.0.0b in /opt/conda/envs/python35-paddle120-env/lib/python3.7/site-packages (from paddlehub==2.0.0b2) (2.0.0rc7)\n",
      "Requirement already satisfied: gunicorn>=19.10.0; sys_platform != \"win32\" in /opt/conda/envs/python35-paddle120-env/lib/python3.7/site-packages (from paddlehub==2.0.0b2) (20.0.4)\n",
      "Requirement already satisfied: filelock in /opt/conda/envs/python35-paddle120-env/lib/python3.7/site-packages (from paddlehub==2.0.0b2) (3.0.12)\n",
      "Requirement already satisfied: matplotlib in /opt/conda/envs/python35-paddle120-env/lib/python3.7/site-packages (from paddlehub==2.0.0b2) (2.2.3)\n",
      "Requirement already satisfied: pyzmq in /opt/conda/envs/python35-paddle120-env/lib/python3.7/site-packages (from paddlehub==2.0.0b2) (18.1.1)\n",
      "Requirement already satisfied: easydict in /opt/conda/envs/python35-paddle120-env/lib/python3.7/site-packages (from paddlehub==2.0.0b2) (1.9)\n",
      "Requirement already satisfied: flask>=1.1.0 in /opt/conda/envs/python35-paddle120-env/lib/python3.7/site-packages (from paddlehub==2.0.0b2) (1.1.1)\n",
      "Requirement already satisfied: rarfile in /opt/conda/envs/python35-paddle120-env/lib/python3.7/site-packages (from paddlehub==2.0.0b2) (3.1)\n",
      "Requirement already satisfied: Pillow in /opt/conda/envs/python35-paddle120-env/lib/python3.7/site-packages (from paddlehub==2.0.0b2) (7.1.2)\n",
      "Requirement already satisfied: pyparsing>=2.0.2 in /opt/conda/envs/python35-paddle120-env/lib/python3.7/site-packages (from packaging->paddlehub==2.0.0b2) (2.4.2)\n",
      "Requirement already satisfied: protobuf>=3.11.0 in /opt/conda/envs/python35-paddle120-env/lib/python3.7/site-packages (from visualdl>=2.0.0->paddlehub==2.0.0b2) (3.14.0)\n",
      "Requirement already satisfied: Flask-Babel>=1.0.0 in /opt/conda/envs/python35-paddle120-env/lib/python3.7/site-packages (from visualdl>=2.0.0->paddlehub==2.0.0b2) (1.0.0)\n",
      "Requirement already satisfied: bce-python-sdk in /opt/conda/envs/python35-paddle120-env/lib/python3.7/site-packages (from visualdl>=2.0.0->paddlehub==2.0.0b2) (0.8.53)\n",
      "Requirement already satisfied: requests in /opt/conda/envs/python35-paddle120-env/lib/python3.7/site-packages (from visualdl>=2.0.0->paddlehub==2.0.0b2) (2.22.0)\n",
      "Requirement already satisfied: pre-commit in /opt/conda/envs/python35-paddle120-env/lib/python3.7/site-packages (from visualdl>=2.0.0->paddlehub==2.0.0b2) (1.21.0)\n",
      "Requirement already satisfied: shellcheck-py in /opt/conda/envs/python35-paddle120-env/lib/python3.7/site-packages (from visualdl>=2.0.0->paddlehub==2.0.0b2) (0.7.1.1)\n",
      "Requirement already satisfied: flake8>=3.7.9 in /opt/conda/envs/python35-paddle120-env/lib/python3.7/site-packages (from visualdl>=2.0.0->paddlehub==2.0.0b2) (3.8.2)\n",
      "Requirement already satisfied: six>=1.14.0 in /opt/conda/envs/python35-paddle120-env/lib/python3.7/site-packages (from visualdl>=2.0.0->paddlehub==2.0.0b2) (1.15.0)\n",
      "Requirement already satisfied: gitdb<5,>=4.0.1 in /opt/conda/envs/python35-paddle120-env/lib/python3.7/site-packages (from gitpython->paddlehub==2.0.0b2) (4.0.5)\n",
      "Requirement already satisfied: seqeval in /opt/conda/envs/python35-paddle120-env/lib/python3.7/site-packages (from paddlenlp>=2.0.0b->paddlehub==2.0.0b2) (1.2.2)\n",
      "Requirement already satisfied: h5py in /opt/conda/envs/python35-paddle120-env/lib/python3.7/site-packages (from paddlenlp>=2.0.0b->paddlehub==2.0.0b2) (2.9.0)\n",
      "Requirement already satisfied: jieba in /opt/conda/envs/python35-paddle120-env/lib/python3.7/site-packages (from paddlenlp>=2.0.0b->paddlehub==2.0.0b2) (0.42.1)\n",
      "Requirement already satisfied: setuptools>=3.0 in /opt/conda/envs/python35-paddle120-env/lib/python3.7/site-packages (from gunicorn>=19.10.0; sys_platform != \"win32\"->paddlehub==2.0.0b2) (41.4.0)\n",
      "Requirement already satisfied: cycler>=0.10 in /opt/conda/envs/python35-paddle120-env/lib/python3.7/site-packages (from matplotlib->paddlehub==2.0.0b2) (0.10.0)\n",
      "Requirement already satisfied: pytz in /opt/conda/envs/python35-paddle120-env/lib/python3.7/site-packages (from matplotlib->paddlehub==2.0.0b2) (2019.3)\n",
      "Requirement already satisfied: kiwisolver>=1.0.1 in /opt/conda/envs/python35-paddle120-env/lib/python3.7/site-packages (from matplotlib->paddlehub==2.0.0b2) (1.1.0)\n",
      "Requirement already satisfied: python-dateutil>=2.1 in /opt/conda/envs/python35-paddle120-env/lib/python3.7/site-packages (from matplotlib->paddlehub==2.0.0b2) (2.8.0)\n",
      "Requirement already satisfied: Werkzeug>=0.15 in /opt/conda/envs/python35-paddle120-env/lib/python3.7/site-packages (from flask>=1.1.0->paddlehub==2.0.0b2) (0.16.0)\n",
      "Requirement already satisfied: Jinja2>=2.10.1 in /opt/conda/envs/python35-paddle120-env/lib/python3.7/site-packages (from flask>=1.1.0->paddlehub==2.0.0b2) (2.10.1)\n",
      "Requirement already satisfied: click>=5.1 in /opt/conda/envs/python35-paddle120-env/lib/python3.7/site-packages (from flask>=1.1.0->paddlehub==2.0.0b2) (7.0)\n",
      "Requirement already satisfied: itsdangerous>=0.24 in /opt/conda/envs/python35-paddle120-env/lib/python3.7/site-packages (from flask>=1.1.0->paddlehub==2.0.0b2) (1.1.0)\n",
      "Requirement already satisfied: Babel>=2.3 in /opt/conda/envs/python35-paddle120-env/lib/python3.7/site-packages (from Flask-Babel>=1.0.0->visualdl>=2.0.0->paddlehub==2.0.0b2) (2.8.0)\n",
      "Requirement already satisfied: pycryptodome>=3.8.0 in /opt/conda/envs/python35-paddle120-env/lib/python3.7/site-packages (from bce-python-sdk->visualdl>=2.0.0->paddlehub==2.0.0b2) (3.9.9)\n",
      "Requirement already satisfied: future>=0.6.0 in /opt/conda/envs/python35-paddle120-env/lib/python3.7/site-packages (from bce-python-sdk->visualdl>=2.0.0->paddlehub==2.0.0b2) (0.18.0)\n",
      "Requirement already satisfied: certifi>=2017.4.17 in /opt/conda/envs/python35-paddle120-env/lib/python3.7/site-packages (from requests->visualdl>=2.0.0->paddlehub==2.0.0b2) (2019.9.11)\n",
      "Requirement already satisfied: urllib3!=1.25.0,!=1.25.1,<1.26,>=1.21.1 in /opt/conda/envs/python35-paddle120-env/lib/python3.7/site-packages (from requests->visualdl>=2.0.0->paddlehub==2.0.0b2) (1.25.6)\n",
      "Requirement already satisfied: idna<2.9,>=2.5 in /opt/conda/envs/python35-paddle120-env/lib/python3.7/site-packages (from requests->visualdl>=2.0.0->paddlehub==2.0.0b2) (2.8)\n",
      "Requirement already satisfied: chardet<3.1.0,>=3.0.2 in /opt/conda/envs/python35-paddle120-env/lib/python3.7/site-packages (from requests->visualdl>=2.0.0->paddlehub==2.0.0b2) (3.0.4)\n",
      "Requirement already satisfied: virtualenv>=15.2 in /opt/conda/envs/python35-paddle120-env/lib/python3.7/site-packages (from pre-commit->visualdl>=2.0.0->paddlehub==2.0.0b2) (16.7.9)\n",
      "Requirement already satisfied: cfgv>=2.0.0 in /opt/conda/envs/python35-paddle120-env/lib/python3.7/site-packages (from pre-commit->visualdl>=2.0.0->paddlehub==2.0.0b2) (2.0.1)\n",
      "Requirement already satisfied: importlib-metadata; python_version < \"3.8\" in /opt/conda/envs/python35-paddle120-env/lib/python3.7/site-packages (from pre-commit->visualdl>=2.0.0->paddlehub==2.0.0b2) (0.23)\n",
      "Requirement already satisfied: nodeenv>=0.11.1 in /opt/conda/envs/python35-paddle120-env/lib/python3.7/site-packages (from pre-commit->visualdl>=2.0.0->paddlehub==2.0.0b2) (1.3.4)\n",
      "Requirement already satisfied: toml in /opt/conda/envs/python35-paddle120-env/lib/python3.7/site-packages (from pre-commit->visualdl>=2.0.0->paddlehub==2.0.0b2) (0.10.0)\n",
      "Requirement already satisfied: identify>=1.0.0 in /opt/conda/envs/python35-paddle120-env/lib/python3.7/site-packages (from pre-commit->visualdl>=2.0.0->paddlehub==2.0.0b2) (1.4.10)\n",
      "Requirement already satisfied: aspy.yaml in /opt/conda/envs/python35-paddle120-env/lib/python3.7/site-packages (from pre-commit->visualdl>=2.0.0->paddlehub==2.0.0b2) (1.3.0)\n",
      "Requirement already satisfied: mccabe<0.7.0,>=0.6.0 in /opt/conda/envs/python35-paddle120-env/lib/python3.7/site-packages (from flake8>=3.7.9->visualdl>=2.0.0->paddlehub==2.0.0b2) (0.6.1)\n",
      "Requirement already satisfied: pycodestyle<2.7.0,>=2.6.0a1 in /opt/conda/envs/python35-paddle120-env/lib/python3.7/site-packages (from flake8>=3.7.9->visualdl>=2.0.0->paddlehub==2.0.0b2) (2.6.0)\n",
      "Requirement already satisfied: pyflakes<2.3.0,>=2.2.0 in /opt/conda/envs/python35-paddle120-env/lib/python3.7/site-packages (from flake8>=3.7.9->visualdl>=2.0.0->paddlehub==2.0.0b2) (2.2.0)\n",
      "Requirement already satisfied: smmap<4,>=3.0.1 in /opt/conda/envs/python35-paddle120-env/lib/python3.7/site-packages (from gitdb<5,>=4.0.1->gitpython->paddlehub==2.0.0b2) (3.0.5)\n",
      "Requirement already satisfied: scikit-learn>=0.21.3 in /opt/conda/envs/python35-paddle120-env/lib/python3.7/site-packages (from seqeval->paddlenlp>=2.0.0b->paddlehub==2.0.0b2) (0.22.1)\n",
      "Requirement already satisfied: MarkupSafe>=0.23 in /opt/conda/envs/python35-paddle120-env/lib/python3.7/site-packages (from Jinja2>=2.10.1->flask>=1.1.0->paddlehub==2.0.0b2) (1.1.1)\n",
      "Requirement already satisfied: zipp>=0.5 in /opt/conda/envs/python35-paddle120-env/lib/python3.7/site-packages (from importlib-metadata; python_version < \"3.8\"->pre-commit->visualdl>=2.0.0->paddlehub==2.0.0b2) (0.6.0)\n",
      "Requirement already satisfied: joblib>=0.11 in /opt/conda/envs/python35-paddle120-env/lib/python3.7/site-packages (from scikit-learn>=0.21.3->seqeval->paddlenlp>=2.0.0b->paddlehub==2.0.0b2) (0.14.1)\n",
      "Requirement already satisfied: scipy>=0.17.0 in /opt/conda/envs/python35-paddle120-env/lib/python3.7/site-packages (from scikit-learn>=0.21.3->seqeval->paddlenlp>=2.0.0b->paddlehub==2.0.0b2) (1.3.0)\n",
      "Requirement already satisfied: more-itertools in /opt/conda/envs/python35-paddle120-env/lib/python3.7/site-packages (from zipp>=0.5->importlib-metadata; python_version < \"3.8\"->pre-commit->visualdl>=2.0.0->paddlehub==2.0.0b2) (7.2.0)\n",
      "Installing collected packages: paddlehub\n",
      "  Found existing installation: paddlehub 2.0.4\n",
      "    Uninstalling paddlehub-2.0.4:\n",
      "      Successfully uninstalled paddlehub-2.0.4\n",
      "Successfully installed paddlehub-2.0.0b2\n"
     ]
    }
   ],
   "source": [
    "# 如果需要进行持久化安装, 需要使用持久化路径, 如下方代码示例:\n",
    "# If a persistence installation is required, \n",
    "# you need to use the persistence path as the following: \n",
    "!pip install paddlehub==2.0.0b2"
   ]
  },
  {
   "cell_type": "markdown",
   "metadata": {
    "collapsed": false
   },
   "source": [
    "## 数据准备\n",
    "在项目文件夹中有source image \n",
    "\n",
    "准备了几张照片（19春季赛的定妆照 "
   ]
  },
  {
   "cell_type": "markdown",
   "metadata": {
    "collapsed": false
   },
   "source": [
    "## 导入U2Net_Portrait模型\n",
    "项目采用了U2Net_Portrait网络。从PaddleHub里导入了预训练模型。如果想要使用GPU需要设置一下`os.environ[\"CUDA_VISIBLE_DEVICES\"]`为\"0\"。当然这里可以不使用GPU。\\\n",
    "Paddlehub集成了很多预训练模型，我们可以从paadlehub里直接将U2Net_Portrait预训练网络加载到内存中。\\\n",
    "`hub.Module()`是创建模型，模型使用的参数根据其构造参数`name`来确定。这里`name='U2Net_Portrait'`就是在指定模型参数。\\\n",
    "通过调用模型的`Portrait_GEN`方法，获取模型输出的结果。`Portrait_GEN`方法的输入参数有`images`和`output_dir`，顾名思义是输入图片和输出路径。最后用`opencv`将图片保存即可。"
   ]
  },
  {
   "cell_type": "code",
   "execution_count": null,
   "metadata": {
    "collapsed": false
   },
   "outputs": [
    {
     "name": "stdout",
     "output_type": "stream",
     "text": [
      "146.0\n"
     ]
    }
   ],
   "source": [
    "import paddlehub as hub\n",
    "import os\n",
    "import cv2\n",
    "\n",
    "os.environ[\"CUDA_VISIBLE_DEVICES\"] = \"0\"\n",
    "# 模型加载\n",
    "# use_gpu：是否使用GPU进行预测\n",
    "for f in os.listdir('./18ji'):\n",
    "    model = hub.Module(name='U2Net_Portrait')\n",
    "    # img = cv2.imread(os.path.join('./18ji', f))\n",
    "    # result = model.Cartoon_GEN(images=[img], output_dir='./output_frames')\n",
    "    result = model.Portrait_GEN(images=[img], output_dir='./output_frames2')\n",
    "    # print(result[0].shape)\n",
    "    cv2.imwrite(f'./18ji_output/{f}', result[0])"
   ]
  },
  {
   "cell_type": "markdown",
   "metadata": {
    "collapsed": false
   },
   "source": [
    "![](https://ai-studio-static-online.cdn.bcebos.com/2625bf36fb154b588f17b88c40c3dff29a8c67992c784670afdd87ebf504ff56)\n",
    "![](https://ai-studio-static-online.cdn.bcebos.com/ed638b05becc47e4b2740cdb148156fbe1aae83b11ff4100bdda333e0f9c15bf)\n",
    "![](https://ai-studio-static-online.cdn.bcebos.com/556c195e315549dbbd519a00a88b3fa012cf9de569f04d87984e432d5d5ba6d4)\n",
    "![](https://ai-studio-static-online.cdn.bcebos.com/22ea6474e5c14c8dbed57467e51b49c06f78b54e951d494aa2614d56d0aa433d)\n",
    "![](https://ai-studio-static-online.cdn.bcebos.com/8a2e7fee27c9477f942f1cf6486511bd554634e48a054253b5837c226f9c9d34)\n",
    "![](https://ai-studio-static-online.cdn.bcebos.com/92979f19e44e4fddb498b9cd8767b58150fca99a97544f5bae22f714eb82438d)\n",
    "![](https://ai-studio-static-online.cdn.bcebos.com/aade7d1b9f19485e87c70c583f7199ea836eabcd81b54255a1d3ebb3986ea4ff)\n",
    "\n",
    "（呜呜呜shy哥好帅我要放两张）\n"
   ]
  },
  {
   "cell_type": "markdown",
   "metadata": {
    "collapsed": false
   },
   "source": []
  },
  {
   "cell_type": "markdown",
   "metadata": {
    "collapsed": false
   },
   "source": [
    "## 合成为一张图\n",
    "这段代码将生成图片resize到128x128并拼在一起，用numpy数组进行赋值操作"
   ]
  },
  {
   "cell_type": "code",
   "execution_count": 16,
   "metadata": {
    "collapsed": false
   },
   "outputs": [
    {
     "data": {
      "text/plain": [
       "True"
      ]
     },
     "execution_count": 16,
     "metadata": {},
     "output_type": "execute_result"
    }
   ],
   "source": [
    "import cv2\r\n",
    "import numpy as np\r\n",
    "import os\r\n",
    "\r\n",
    "root = './18ji_output'\r\n",
    "w, h = 128, 128\r\n",
    "cnt_h = 4\r\n",
    "cnt_w = 5\r\n",
    "res = np.zeros((h * cnt_h, w * cnt_w, 3))\r\n",
    "now_h = 0\r\n",
    "now_w = 0\r\n",
    "for path in os.listdir(root):\r\n",
    "    path = os.path.join(root, path)\r\n",
    "    img = cv2.resize(cv2.imread(path), (w, h))\r\n",
    "    # cv2.imwrite('f.png', img)\r\n",
    "    # print(now_h * h, (now_h + 1) * h)\r\n",
    "    res[now_h * h: (now_h + 1) * h, now_w * w: (now_w + 1) * w, :] = img\r\n",
    "    now_w += 1\r\n",
    "    if now_w == cnt_w:\r\n",
    "        now_w = 0\r\n",
    "        now_h += 1\r\n",
    "\r\n",
    "cv2.imwrite('res.png', res)"
   ]
  },
  {
   "cell_type": "markdown",
   "metadata": {
    "collapsed": false
   },
   "source": [
    "![](https://ai-studio-static-online.cdn.bcebos.com/719712e91eae44269498c55ef3786a93de1882155c284b72b6a9f57c056262c1)\n"
   ]
  },
  {
   "cell_type": "markdown",
   "metadata": {
    "collapsed": false
   },
   "source": [
    "# 关于作者\n",
    "哈尔滨工业大学 计算机科学与技术专业 大四在读\\\n",
    "感兴趣的方向为：计算机视觉、自然语言处理\\\n",
    "AIstudio主页：314920465\\\n",
    "Github主页：stuyxr\\\n",
    "欢迎大家有问题留言交流学习，共同进步成长"
   ]
  }
 ],
 "metadata": {
  "kernelspec": {
   "display_name": "PaddlePaddle 2.0.0b0 (Python 3.5)",
   "language": "python",
   "name": "py35-paddle1.2.0"
  },
  "language_info": {
   "codemirror_mode": {
    "name": "ipython",
    "version": 3
   },
   "file_extension": ".py",
   "mimetype": "text/x-python",
   "name": "python",
   "nbconvert_exporter": "python",
   "pygments_lexer": "ipython3",
   "version": "3.7.4"
  }
 },
 "nbformat": 4,
 "nbformat_minor": 1
}
